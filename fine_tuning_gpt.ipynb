{
 "cells": [
  {
   "cell_type": "code",
   "execution_count": 55,
   "outputs": [],
   "source": [
    "from openai import OpenAI\n",
    "import os\n",
    "\n",
    "OPENAI_API_KEY =''\n",
    "os.environ['OPENAI_API_KEY'] = OPENAI_API_KEY"
   ],
   "metadata": {
    "collapsed": false,
    "ExecuteTime": {
     "end_time": "2024-03-23T16:20:43.235927Z",
     "start_time": "2024-03-23T16:20:43.229567Z"
    }
   },
   "id": "619b2ceb95b6a0ae"
  },
  {
   "cell_type": "code",
   "execution_count": 56,
   "outputs": [],
   "source": [
    "client = OpenAI()\n"
   ],
   "metadata": {
    "collapsed": false,
    "ExecuteTime": {
     "end_time": "2024-03-23T16:20:44.448362Z",
     "start_time": "2024-03-23T16:20:44.390617Z"
    }
   },
   "id": "3ea84e8165200071"
  },
  {
   "cell_type": "code",
   "execution_count": 57,
   "outputs": [],
   "source": [
    "training_file_id = client.files.create(\n",
    "  file=open('chat_train.jsonl', \"rb\"),\n",
    "  purpose=\"fine-tune\"\n",
    ")\n",
    "\n",
    "validation_file_id = client.files.create(\n",
    "  file=open('chat_validation.jsonl', \"rb\"),\n",
    "  purpose=\"fine-tune\"\n",
    ")"
   ],
   "metadata": {
    "collapsed": false,
    "ExecuteTime": {
     "end_time": "2024-03-23T16:20:47.129081Z",
     "start_time": "2024-03-23T16:20:45.874683Z"
    }
   },
   "id": "21857ec76805bee5"
  },
  {
   "cell_type": "code",
   "execution_count": null,
   "outputs": [],
   "source": [
    "print(f\"Training File ID: {training_file_id}\")\n",
    "print(f\"Validation File ID: {validation_file_id}\")"
   ],
   "metadata": {
    "collapsed": false
   },
   "id": "aa2172e883f1db1f"
  },
  {
   "cell_type": "code",
   "execution_count": 65,
   "outputs": [
    {
     "name": "stdout",
     "output_type": "stream",
     "text": [
      "Fine-tunning model with jobID: ftjob-DpYhbzewXEIBjvr68trZSToD.\n",
      "Training Response: FineTuningJob(id='ftjob-DpYhbzewXEIBjvr68trZSToD', created_at=1711211392, error=Error(code=None, message=None, param=None, error=None), fine_tuned_model=None, finished_at=None, hyperparameters=Hyperparameters(n_epochs=30, batch_size=10, learning_rate_multiplier=0.3), model='gpt-3.5-turbo-0125', object='fine_tuning.job', organization_id='org-sAxiCEm1bAULLyaaYVi9r2Jh', result_files=[], status='validating_files', trained_tokens=None, training_file='file-oeoqdmHmyaJ4bShOMmUloyFg', validation_file='file-LKmbVf530T0p311gHBi4qQ3j', user_provided_suffix=None)\n",
      "Training Status: validating_files\n"
     ]
    }
   ],
   "source": [
    "response = client.fine_tuning.jobs.create(\n",
    "  training_file=training_file_id.id, \n",
    "  validation_file=validation_file_id.id,\n",
    "  model=\"gpt-3.5-turbo\", \n",
    "  hyperparameters={\n",
    "    \"n_epochs\": 30,\n",
    "\t\"batch_size\": 10,\n",
    "\t\"learning_rate_multiplier\": 0.3\n",
    "  }\n",
    ")\n",
    "job_id = response.id\n",
    "status = response.status\n",
    "\n",
    "print(f'Fine-tunning model with jobID: {job_id}.')\n",
    "print(f\"Training Response: {response}\")\n",
    "print(f\"Training Status: {status}\")"
   ],
   "metadata": {
    "collapsed": false,
    "ExecuteTime": {
     "end_time": "2024-03-23T16:29:52.204633Z",
     "start_time": "2024-03-23T16:29:50.833873Z"
    }
   },
   "id": "79fb526fb6d49e49"
  },
  {
   "cell_type": "code",
   "execution_count": 73,
   "outputs": [
    {
     "name": "stdout",
     "output_type": "stream",
     "text": [
      "Streaming events for the fine-tuning job: ftjob-DpYhbzewXEIBjvr68trZSToD\n",
      "2024-03-23 19:41:13 The job has successfully completed\n",
      "2024-03-23 19:41:11 New fine-tuned model created: ft:gpt-3.5-turbo-0125:provectus-prosearch::95yid3wp\n",
      "2024-03-23 19:40:50 Step 261/270: training loss=1.32, validation loss=1.49\n",
      "2024-03-23 19:40:28 Step 251/270: training loss=1.14, validation loss=1.91\n",
      "2024-03-23 19:40:06 Step 241/270: training loss=1.35, validation loss=1.49\n",
      "2024-03-23 19:39:44 Step 231/270: training loss=1.65, validation loss=1.92\n",
      "2024-03-23 19:39:21 Step 221/270: training loss=1.36, validation loss=1.50\n",
      "2024-03-23 19:38:59 Step 211/270: training loss=1.16, validation loss=1.94\n",
      "2024-03-23 19:38:37 Step 201/270: training loss=1.72, validation loss=1.52\n",
      "2024-03-23 19:38:15 Step 191/270: training loss=1.30, validation loss=1.96\n",
      "2024-03-23 19:37:55 Step 181/270: training loss=1.31, validation loss=1.54\n",
      "2024-03-23 19:37:31 Step 171/270: training loss=1.27, validation loss=1.99\n",
      "2024-03-23 19:37:08 Step 161/270: training loss=1.66, validation loss=1.57\n",
      "2024-03-23 19:36:46 Step 151/270: training loss=1.01, validation loss=2.03\n",
      "2024-03-23 19:36:26 Step 141/270: training loss=1.16, validation loss=1.60\n",
      "2024-03-23 19:36:04 Step 131/270: training loss=1.68, validation loss=2.07\n",
      "2024-03-23 19:35:44 Step 121/270: training loss=1.84, validation loss=1.65\n",
      "2024-03-23 19:35:20 Step 111/270: training loss=1.34, validation loss=2.10\n",
      "2024-03-23 19:35:00 Step 101/270: training loss=1.84, validation loss=1.69\n",
      "2024-03-23 19:34:37 Step 91/270: training loss=1.47, validation loss=2.17\n",
      "2024-03-23 19:34:13 Step 81/270: training loss=1.69, validation loss=1.75\n",
      "2024-03-23 19:33:53 Step 71/270: training loss=1.79, validation loss=2.24\n",
      "2024-03-23 19:33:29 Step 61/270: training loss=1.93, validation loss=1.85\n",
      "2024-03-23 19:33:07 Step 51/270: training loss=1.99, validation loss=2.39\n",
      "2024-03-23 19:32:47 Step 41/270: training loss=1.40, validation loss=2.00\n",
      "2024-03-23 19:32:24 Step 31/270: training loss=2.06, validation loss=2.71\n",
      "2024-03-23 19:32:02 Step 21/270: training loss=1.91, validation loss=2.46\n",
      "2024-03-23 19:31:40 Step 11/270: training loss=3.22, validation loss=3.63\n",
      "2024-03-23 19:31:18 Step 1/270: training loss=2.59, validation loss=2.90\n",
      "2024-03-23 19:29:55 Fine-tuning job started\n",
      "2024-03-23 19:29:54 Files validated, moving job to queued state\n",
      "2024-03-23 19:29:52 Validating training file: file-oeoqdmHmyaJ4bShOMmUloyFg and validation file: file-LKmbVf530T0p311gHBi4qQ3j\n",
      "2024-03-23 19:29:52 Created fine-tuning job: ftjob-DpYhbzewXEIBjvr68trZSToD\n"
     ]
    }
   ],
   "source": [
    "import signal\n",
    "import datetime\n",
    "\n",
    "\n",
    "def signal_handler():\n",
    "    status = client.fine_tuning.jobs.retrieve(job_id).status\n",
    "    print(f\"Stream interrupted. Job is still {status}.\")\n",
    "    return\n",
    "\n",
    "\n",
    "print(f\"Streaming events for the fine-tuning job: {job_id}\")\n",
    "\n",
    "signal.signal(signal.SIGINT, signal_handler)\n",
    "\n",
    "events = client.fine_tuning.jobs.list_events(fine_tuning_job_id=job_id)\n",
    "try:\n",
    "    for event in events:\n",
    "        print(\n",
    "            f'{datetime.datetime.fromtimestamp(event.created_at)} {event.message}'\n",
    "        )\n",
    "except Exception:\n",
    "    print(\"Stream interrupted (client disconnected).\")"
   ],
   "metadata": {
    "collapsed": false,
    "ExecuteTime": {
     "end_time": "2024-03-23T16:58:45.301648Z",
     "start_time": "2024-03-23T16:58:44.599916Z"
    }
   },
   "id": "e475527eeb2a87b7"
  },
  {
   "cell_type": "code",
   "execution_count": 76,
   "outputs": [
    {
     "name": "stdout",
     "output_type": "stream",
     "text": [
      "FT job ftjob-DpYhbzewXEIBjvr68trZSToD finished with status: succeeded\n",
      "Found 2 finetune jobs.\n"
     ]
    }
   ],
   "source": [
    "import time\n",
    "\n",
    "status = client.fine_tuning.jobs.retrieve(job_id).status\n",
    "if status not in [\"succeeded\", \"failed\"]:\n",
    "    print(f\"Job status: {status}. Waiting.\")\n",
    "    while status not in [\"succeeded\", \"failed\"]:\n",
    "        time.sleep(2)\n",
    "        status = client.fine_tuning.jobs.retrieve(job_id).status\n",
    "        print(f\"Status: {status}\")\n",
    "else:\n",
    "    print(f\"FT job {job_id} finished with status: {status}\")\n",
    "result = client.fine_tuning.jobs.list()\n",
    "print(f\"Found {len(result.data)} finetune jobs.\")"
   ],
   "metadata": {
    "collapsed": false,
    "ExecuteTime": {
     "end_time": "2024-03-23T16:59:40.065353Z",
     "start_time": "2024-03-23T16:59:39.462295Z"
    }
   },
   "id": "13c6813526b8aa8"
  },
  {
   "cell_type": "code",
   "execution_count": 77,
   "outputs": [
    {
     "name": "stdout",
     "output_type": "stream",
     "text": [
      "ft:gpt-3.5-turbo-0125:provectus-prosearch::95yid3wp\n"
     ]
    }
   ],
   "source": [
    "# Retrieve the finetuned model\n",
    "fine_tuned_model = result.data[0].fine_tuned_model\n",
    "print(fine_tuned_model)"
   ],
   "metadata": {
    "collapsed": false,
    "ExecuteTime": {
     "end_time": "2024-03-23T16:59:44.517341Z",
     "start_time": "2024-03-23T16:59:44.511062Z"
    }
   },
   "id": "f64d5f299e135960"
  },
  {
   "cell_type": "code",
   "execution_count": 78,
   "outputs": [
    {
     "name": "stdout",
     "output_type": "stream",
     "text": [
      "ChatCompletionMessage(content='Special Publication SEBD0640 provides guidelines for the installation of a Solar battery disconnect.', role='assistant', function_call=None, tool_calls=None)\n"
     ]
    }
   ],
   "source": [
    "prompt = \"What is the focus of Special Publication SEBD0640?\"\n",
    "completion = client.chat.completions.create(\n",
    "  model=fine_tuned_model,\n",
    "  messages=[\n",
    "    {\"role\": \"system\", \"content\": \"You are a helpful assistant.\"},\n",
    "    {\"role\": \"user\", \"content\": prompt}\n",
    "  ]\n",
    ")\n",
    "print(completion.choices[0].message)"
   ],
   "metadata": {
    "collapsed": false,
    "ExecuteTime": {
     "end_time": "2024-03-23T16:59:50.736188Z",
     "start_time": "2024-03-23T16:59:47.392877Z"
    }
   },
   "id": "5396f181bfa40d6d"
  },
  {
   "cell_type": "code",
   "execution_count": 79,
   "outputs": [],
   "source": [
    "# !curl https://api.openai.com/v1/chat/completions \\\n",
    "#   -H \"Content-Type: application/json\" \\\n",
    "#   -H \"Authorization: Bearer $OPENAI_API_KEY\" \\\n",
    "#   -d '{\"model\": \"ft:gpt-3.5-turbo-0125:axiom-law::95xLgV7f\",\"messages\": [{\"role\": \"system\",\"content\": \"You are a helpful assistant.\"},{\"role\": \"user\",\"content\": \"What is the focus of Special Publication SEBD0640?\"}]}'"
   ],
   "metadata": {
    "collapsed": false,
    "ExecuteTime": {
     "end_time": "2024-03-23T17:00:00.080814Z",
     "start_time": "2024-03-23T17:00:00.073819Z"
    }
   },
   "id": "10963a3a0409ac1b"
  },
  {
   "cell_type": "code",
   "execution_count": 81,
   "outputs": [
    {
     "name": "stdout",
     "output_type": "stream",
     "text": [
      "Model's response: {'id': 'chatcmpl-95z1oanivZCx6oD6dgSHoAgD25gBZ', 'object': 'chat.completion', 'created': 1711213260, 'model': 'ft:gpt-3.5-turbo-0125:provectus-prosearch::95yid3wp', 'choices': [{'index': 0, 'message': {'role': 'assistant', 'content': 'The focus of Engine Manufacturers Association Parts Manual SERP5069 299C includes information on Caterpillar spark-ignited gas engines.'}, 'logprobs': None, 'finish_reason': 'stop'}], 'usage': {'prompt_tokens': 32, 'completion_tokens': 27, 'total_tokens': 59}, 'system_fingerprint': 'fp_30c5ea69e1'}\n"
     ]
    }
   ],
   "source": [
    "import requests\n",
    "prompt = \"Focus of Engine Manufacturers Association Parts Manual SERP5069 299C?\"\n",
    "endpoint_url = \"https://api.openai.com/v1/chat/completions\"\n",
    "api_key = OPENAI_API_KEY\n",
    "\n",
    "headers = {\n",
    "    \"Content-Type\": \"application/json\",\n",
    "    \"Authorization\": f\"Bearer {api_key}\"\n",
    "}\n",
    "payload = {\n",
    "    \"model\": fine_tuned_model,\n",
    "    \"messages\": [\n",
    "        {\"role\": \"system\", \"content\": \"You are a helpful assistant.\"},\n",
    "        {\"role\": \"user\", \"content\": prompt}\n",
    "    ]\n",
    "}\n",
    "\n",
    "response = requests.post(endpoint_url, headers=headers, json=payload)\n",
    "\n",
    "if response.status_code == 200:\n",
    "    response_json = response.json()\n",
    "    print(\"Model's response:\", response_json)\n",
    "else:\n",
    "    print(\"Error:\", response.text)\n"
   ],
   "metadata": {
    "collapsed": false,
    "ExecuteTime": {
     "end_time": "2024-03-23T17:01:00.958052Z",
     "start_time": "2024-03-23T17:00:59.590941Z"
    }
   },
   "id": "21dbf64d6e77b89e"
  },
  {
   "cell_type": "code",
   "execution_count": null,
   "outputs": [],
   "source": [
    "# LAST without validation\n",
    "# ft:gpt-3.5-turbo-0125:axiom-law::95woVmrq\n",
    "\n",
    "# last\n",
    "# ft:gpt-3.5-turbo-0125:axiom-law::95xLgV7f"
   ],
   "metadata": {
    "collapsed": false
   },
   "id": "75458d218a48a234"
  }
 ],
 "metadata": {
  "kernelspec": {
   "display_name": "Python 3",
   "language": "python",
   "name": "python3"
  },
  "language_info": {
   "codemirror_mode": {
    "name": "ipython",
    "version": 2
   },
   "file_extension": ".py",
   "mimetype": "text/x-python",
   "name": "python",
   "nbconvert_exporter": "python",
   "pygments_lexer": "ipython2",
   "version": "2.7.6"
  }
 },
 "nbformat": 4,
 "nbformat_minor": 5
}

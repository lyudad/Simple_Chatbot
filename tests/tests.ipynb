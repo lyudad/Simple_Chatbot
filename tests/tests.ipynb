{
 "cells": [
  {
   "cell_type": "code",
   "execution_count": 5,
   "id": "0c7b614f-2ad8-429a-9d09-04affad99ed0",
   "metadata": {
    "tags": []
   },
   "outputs": [],
   "source": [
    "import os\n",
    "from openai import OpenAI\n"
   ]
  },
  {
   "cell_type": "code",
   "execution_count": 6,
   "id": "d0dff569-6b8d-4a2b-8f59-1fe1981f8410",
   "metadata": {
    "tags": []
   },
   "outputs": [],
   "source": [
    "# !pip install openai"
   ]
  },
  {
   "cell_type": "code",
   "execution_count": 7,
   "id": "790b0543-e701-4fa1-91d2-42012a310c9e",
   "metadata": {
    "tags": []
   },
   "outputs": [],
   "source": [
    "OPENAI_API_KEY =''\n",
    "os.environ['OPENAI_API_KEY'] = OPENAI_API_KEY"
   ]
  },
  {
   "cell_type": "code",
   "execution_count": 14,
   "id": "f726bd51-b68e-47ae-b1a2-b68fe1d5e992",
   "metadata": {
    "tags": []
   },
   "outputs": [
    {
     "data": {
      "text/plain": [
       "FileObject(id='file-umBGkFDCspopHle4QFJT6aDb', bytes=14712, created_at=1711098569, filename='train.jsonl', object='file', purpose='fine-tune', status='processed', status_details=None)"
      ]
     },
     "execution_count": 14,
     "metadata": {},
     "output_type": "execute_result"
    }
   ],
   "source": [
    "client = OpenAI()\n",
    "client.files.create(\n",
    "  file=open(\"train.jsonl\", \"rb\"),\n",
    "  purpose=\"fine-tune\"\n",
    ")"
   ]
  },
  {
   "cell_type": "code",
   "execution_count": 19,
   "id": "cad5182a-16ac-44f7-9a9d-80b6178dbce0",
   "metadata": {
    "tags": []
   },
   "outputs": [
    {
     "data": {
      "text/plain": [
       "FineTuningJob(id='ftjob-SAmMXwe7iIbZxEP8IKuoVvkE', created_at=1711099016, error=Error(code=None, message=None, param=None, error=None), fine_tuned_model=None, finished_at=None, hyperparameters=Hyperparameters(n_epochs='auto', batch_size='auto', learning_rate_multiplier='auto'), model='davinci-002', object='fine_tuning.job', organization_id='org-O3soZSo9NkqohwecviHDDLCg', result_files=[], status='validating_files', trained_tokens=None, training_file='file-umBGkFDCspopHle4QFJT6aDb', validation_file=None, user_provided_suffix=None)"
      ]
     },
     "execution_count": 19,
     "metadata": {},
     "output_type": "execute_result"
    }
   ],
   "source": [
    "client.fine_tuning.jobs.create(\n",
    "  training_file=\"file-umBGkFDCspopHle4QFJT6aDb\", \n",
    "  model=\"davinci-002\"\n",
    ")"
   ]
  },
  {
   "cell_type": "code",
   "execution_count": 30,
   "id": "2c78a47d-1bf3-4de4-9df9-a531e98cc9c6",
   "metadata": {
    "tags": []
   },
   "outputs": [
    {
     "data": {
      "text/plain": [
       "FineTuningJob(id='ftjob-SAmMXwe7iIbZxEP8IKuoVvkE', created_at=1711099016, error=Error(code=None, message=None, param=None, error=None), fine_tuned_model='ft:davinci-002:axiom-law::95VcKL4T', finished_at=1711100204, hyperparameters=Hyperparameters(n_epochs=3, batch_size=1, learning_rate_multiplier=2), model='davinci-002', object='fine_tuning.job', organization_id='org-O3soZSo9NkqohwecviHDDLCg', result_files=['file-O0km82Mn1O9ANeXd6XfLkcCf'], status='succeeded', trained_tokens=8394, training_file='file-umBGkFDCspopHle4QFJT6aDb', validation_file=None, user_provided_suffix=None)"
      ]
     },
     "execution_count": 30,
     "metadata": {},
     "output_type": "execute_result"
    }
   ],
   "source": [
    "client.fine_tuning.jobs.retrieve(\"ftjob-SAmMXwe7iIbZxEP8IKuoVvkE\")"
   ]
  },
  {
   "cell_type": "code",
   "execution_count": 29,
   "id": "9c411e3a-424a-4bb6-87a4-e33c8736b56d",
   "metadata": {
    "tags": []
   },
   "outputs": [
    {
     "data": {
      "text/plain": [
       "SyncCursorPage[FineTuningJobEvent](data=[FineTuningJobEvent(id='ftevent-ybI0jHIEXpBDeS2nwppfCuLc', created_at=1711099039, level='info', message='Fine-tuning job started', object='fine_tuning.job.event', data=None, type='message'), FineTuningJobEvent(id='ftevent-nHFu9TNMyKTXGqE94dAce6Fk', created_at=1711099038, level='info', message='Files validated, moving job to queued state', object='fine_tuning.job.event', data={}, type='message'), FineTuningJobEvent(id='ftevent-t3Zalpt5TVU334Ya7Bl8DJEd', created_at=1711099016, level='info', message='Validating training file: file-umBGkFDCspopHle4QFJT6aDb', object='fine_tuning.job.event', data={}, type='message'), FineTuningJobEvent(id='ftevent-OfLt76KfaLfEoBFo82iDfMOD', created_at=1711099016, level='info', message='Created fine-tuning job: ftjob-SAmMXwe7iIbZxEP8IKuoVvkE', object='fine_tuning.job.event', data={}, type='message')], object='list', has_more=False)"
      ]
     },
     "execution_count": 29,
     "metadata": {},
     "output_type": "execute_result"
    }
   ],
   "source": [
    "client.fine_tuning.jobs.list_events(fine_tuning_job_id=\"ftjob-SAmMXwe7iIbZxEP8IKuoVvkE\", limit=10)"
   ]
  },
  {
   "cell_type": "code",
   "execution_count": 53,
   "id": "9fe83e9a-7344-449e-b1c5-dca29ced978c",
   "metadata": {
    "tags": []
   },
   "outputs": [
    {
     "name": "stdout",
     "output_type": "stream",
     "text": [
      "{\n",
      "  \"id\": \"cmpl-95XQkuBLqUE43DKli6FfO5zMJO1gq\",\n",
      "  \"object\": \"text_completion\",\n",
      "  \"created\": 1711107174,\n",
      "  \"model\": \"ft:davinci-002:axiom-law::95VcKL4T\",\n",
      "  \"choices\": [\n",
      "    {\n",
      "      \"text\": \"It is about the Operation and Maintenance Manual for the 3208TA Marine Engine\",\n",
      "      \"index\": 0,\n",
      "      \"logprobs\": null,\n",
      "      \"finish_reason\": \"length\"\n",
      "    }\n",
      "  ],\n",
      "  \"usage\": {\n",
      "    \"prompt_tokens\": 13,\n",
      "    \"completion_tokens\": 16,\n",
      "    \"total_tokens\": 29\n",
      "  }\n",
      "}\n"
     ]
    }
   ],
   "source": [
    "!curl https://api.openai.com/v1/completions \\\n",
    "  -H \"Content-Type: application/json\" \\\n",
    "  -H \"Authorization: Bearer $OPENAI_API_KEY\" \\\n",
    "  -d '{\"model\": \"ft:davinci-002:axiom-law::95VcKL4T\", \"prompt\": \"What is the Operation and Maintenance Manual SMBU6981 about?\", \"temperature\": 0}'"
   ]
  },
  {
   "cell_type": "code",
   "execution_count": 1,
   "outputs": [
    {
     "name": "stdout",
     "output_type": "stream",
     "text": [
      "\r\n",
      "\u001B[1m[\u001B[0m\u001B[34;49mnotice\u001B[0m\u001B[1;39;49m]\u001B[0m\u001B[39;49m A new release of pip available: \u001B[0m\u001B[31;49m22.3.1\u001B[0m\u001B[39;49m -> \u001B[0m\u001B[32;49m24.0\u001B[0m\r\n",
      "\u001B[1m[\u001B[0m\u001B[34;49mnotice\u001B[0m\u001B[1;39;49m]\u001B[0m\u001B[39;49m To update, run: \u001B[0m\u001B[32;49mpip install --upgrade pip\u001B[0m\r\n"
     ]
    }
   ],
   "source": [
    "!pip install -qU openai datasets transformers evaluate rouge_score"
   ],
   "metadata": {
    "collapsed": false,
    "ExecuteTime": {
     "end_time": "2024-03-22T12:45:47.378326Z",
     "start_time": "2024-03-22T12:45:23.013550Z"
    }
   },
   "id": "2bb177735552cc5a"
  },
  {
   "cell_type": "code",
   "execution_count": 2,
   "outputs": [
    {
     "data": {
      "text/plain": "Downloading readme:   0%|          | 0.00/1.71k [00:00<?, ?B/s]",
      "application/vnd.jupyter.widget-view+json": {
       "version_major": 2,
       "version_minor": 0,
       "model_id": "c58f36a77ae7422e8fb02532d2e14940"
      }
     },
     "metadata": {},
     "output_type": "display_data"
    },
    {
     "name": "stderr",
     "output_type": "stream",
     "text": [
      "Downloading data: 100%|██████████| 476M/476M [03:21<00:00, 2.36MB/s] \n",
      "Downloading data: 100%|██████████| 261M/261M [01:50<00:00, 2.36MB/s] \n",
      "Downloading data: 100%|██████████| 176M/176M [01:11<00:00, 2.46MB/s] \n",
      "Downloading data: 100%|██████████| 77.4M/77.4M [00:30<00:00, 2.54MB/s]\n"
     ]
    },
    {
     "data": {
      "text/plain": "Generating train split:   0%|          | 0/808812 [00:00<?, ? examples/s]",
      "application/vnd.jupyter.widget-view+json": {
       "version_major": 2,
       "version_minor": 0,
       "model_id": "ae4007df11ce4a86b078c90f9b7fcfef"
      }
     },
     "metadata": {},
     "output_type": "display_data"
    }
   ],
   "source": [
    "from datasets import load_dataset\n",
    "\n",
    "ds = load_dataset(\"nomic-ai/gpt4all-j-prompt-generations\",split=\"train\")"
   ],
   "metadata": {
    "collapsed": false,
    "ExecuteTime": {
     "end_time": "2024-03-22T12:53:36.857374Z",
     "start_time": "2024-03-22T12:46:08.461761Z"
    }
   },
   "id": "2cd89359e25bdbd0"
  },
  {
   "cell_type": "code",
   "execution_count": 3,
   "outputs": [
    {
     "data": {
      "text/plain": "Dataset({\n    features: ['prompt', 'response', 'source'],\n    num_rows: 1000\n})"
     },
     "execution_count": 3,
     "metadata": {},
     "output_type": "execute_result"
    }
   ],
   "source": [
    "ds_sample = ds.select(range(1000))\n",
    "ds_sample"
   ],
   "metadata": {
    "collapsed": false,
    "ExecuteTime": {
     "end_time": "2024-03-22T12:56:13.686863Z",
     "start_time": "2024-03-22T12:56:13.663489Z"
    }
   },
   "id": "4e19a52d02fd3e28"
  },
  {
   "cell_type": "code",
   "execution_count": 7,
   "outputs": [
    {
     "name": "stdout",
     "output_type": "stream",
     "text": [
      "{'messages': [{'role': 'system', 'content': \"You are the Yahoo platform user's assistant. Please reply users' answer using polite,clear and respectful language.\"}, {'role': 'user', 'content': 'Produce an article summary of the following news article: Surf pool, United Arab Emirates\\n\\nThe Box, Margaret River Valley, Australia\\n\\nLance\\'s Right, Mentawais Islands, Indonesia\\n\\nP-Pass, Federated States of Micronesia\\n\\nSupertubes, Jeffrey\\'s Bay, South Africa\\n\\nPipeline, Oahu, Hawaii, United States\\n\\n(CNN) -- Maybe you surf, maybe you don\\'t.\\n\\nEveryone who\\'s been to the beach in the last 50 years is influenced by surf culture.\\n\\nIf you\\'ve ever listened to a Beach Boys record (most of the guys in the group didn\\'t surf) or donned a pair of baggy shorts or looked wistfully out at the breakers and dreamed of an endless summer of waves and bonfires with the perfect surfer guy or girl on your arm, you can claim a connection to surf culture.\\n\\nThat\\'s why even if you\\'re the type who sits on the beach with your toes planted firmly in the sand, the world\\'s best surf spots still matter.\\n\\nTo get you to them, we asked the editors of Surfing Magazine to help us compile picks for the world\\'s greatest surf spots (our top 10 is heavily influenced by theirs), adding them to a mix of contributions from pro surfers and our own experiences.\\n\\nThe most unusual wave on the list is found on an artificial river next to Englischer Garten, Munich\\'s main park. It\\'s completely landlocked.\\n\\nThis one meter standing wave (meaning you don\\'t move along the river, but surf in the same spot) is created by water pumped fast against a large rock, forming a crest.\\n\\nAs long as there\\'s enough water the ride never stops ... until you fall.\\n\\n49. Baja Malibu, Baja Norte, Mexico\\n\\nThough water cleanliness is an issue (don\\'t swallow any), this exposed break works when offshore winds blow in from the east.\\n\\nYou can ride both right and left and fall onto a sandy base.\\n\\n48. Not huge waves, but a mellow scene and good camping.\\n\\nIn northeast Taiwan, Fulong Beach has great camping nearby and produces thrilling right- and left-peeling waves from a sandbar.\\n\\nWaves range from one to two meters.\\n\\n47. Surin Beach, Phuket, Thailand\\n\\nThough Thailand isn\\'t a world-class spot, we like the location, the warm opaque waters, fresh pad Thai at street stalls and raucous nightlife.\\n\\n46. Arugam Bay, Sri Lanka\\n\\nNot just a great surf spot with a right-hand peak, surfers here share the beach with wild monkeys and elephants that graze in the forest nearby.\\n\\nOn the southernmost tip of Barbados you\\'ll find hollow and fast beginner-to-intermediate peaks scattered along the bay.\\n\\nWaves face both left and right.\\n\\n50 awesome, amazing natural wonders\\n\\n44. The Bubble, Fuerteventura, Canary Islands\\n\\nOn the north shore off the coast of El Jablito, this expert right-hand tube works best when it\\'s head-high to double overhead.\\n\\nSimilar to many of the waves in the Canaries, the only thing that hurts this reef break are aggressive locals who resent giving visiting surfers a turn on \"their\" wave. Visitors may find themselves in a paddling race to get a shot at riding this classic face.\\n\\n43. Black\\'s Beach, San Diego, California\\n\\nOne for seasoned professionals, Black\\'s Beach is one of the most powerful breaks in California.\\n\\nSan Diego\\'s best surfers flock here; it can get crowded on weekends.\\n\\n42. Cape Hatteras: historic ride.\\n\\n42. Cape Hatteras Lighthouse, Buxton, North Carolina\\n\\nCape Hatteras Lighthouse has been popular since the 1970s and renowned for good surf caused by deadly hurricanes, which have over the years caused numerous shipwrecks and given it the nickname \"the Atlantic graveyard.\"\\n\\n41. Surf pool, United Arab Emirates\\n\\nThe only artificial surf site to make the list, the wave pool at Wadi Adventure in the United Arab Emirates has converted its share of skeptics, inspiring some to proclaim it the future of surfing.\\n\\nThe surf pool can be adjusted to create rights, lefts and even barrels.\\n\\n\"It may not be the best wave in the world, but it\\'s the best wave pool in the world,\" says Surfing Magazine editor in chief Taylor Paul.\\n\\nSurfers have been hitting this spot since the 1950s.\\n\\nIt pumps all year around thanks to ferocious North Atlantic swells that make their way down the Gulf de Gascogne.\\n\\n39. Ponta Preta, Maio, Cape Verde\\n\\nIn Portuguese \"Ponta Preta\" means black point, and if this was a ski slope it would most definitely be a black run.\\n\\nThis break over exposed reef offers thrilling rides in winter for expert surfers.\\n\\n38. Tofino, Vancouver Island, Canada\\n\\nThe surfing capital of Canada offers a picturesque break on the west coast of the island.\\n\\nUnique feature: it\\'s surrounded by a looming rainforest.\\n\\nSuitable for all abilities, the only prerequisite is a thick wetsuit -- it gets cold out there.\\n\\n37. Byron Bay, New South Wales, Australia\\n\\nPopular among European backpackers, this mellow town is home to bars that religiously play reggae and waves along a 70-kilometer stretch of sand.\\n\\nShark nets have been implemented, but look out for the sunken ship.\\n\\n36. Les Cavaliers, Anglet, France\\n\\nFlanked by two rocky girders, surfers should use the channel at the right-hand side to paddle into this killer wave, which works perfectly in offshore winds with west swells.\\n\\nLocals can be aggressive when they feel their waves have been stolen.\\n\\n35. Killer Point, Taghazoute, Morocco\\n\\nPopularized by hippies in the 1960s, this southern Moroccan village makes for an utterly unique surf trip.\\n\\nA perfectly peeling wave breaks over a cliff shelf, which was named after the many killer whales in the area.\\n\\n34. Pedra Branca Ericeira, Portugal\\n\\nAlong this sublime surf beach 48 kilometers north of Lisbon on the Atlantic coast you\\'ll find a sleepy fishing-village-turned-surfer town with six kilometers of stunning beach, including the sandbar Sao Lorenzo and the epic Pedra Branca reef break. It\\'s one of the best waves in Europe.\\n\\n33. Sao Francisco do Sul, Brazil\\n\\nSurfing competitions are often held at this decent quality sandbar below San Paulo on the east coast of Brazil.\\n\\nThere\\'s a fun-loving atmosphere, plus some nice bars from which to watch the surf until sunset and eat tasty local grub.\\n\\nEven professional surfers come close to cracking their boards at this classic wave, which breaks over live coral and on top days offers 150-meter rides.\\n\\nThis lovely left-hand Euro break with plenty of shelter from the rocks can reach up to three meters during mid-high tide.\\n\\nBest of all, it\\'s usually empty.\\n\\n30. As picturesque as it is surfable.\\n\\nSet in a sandy, horseshoe bay, Hanalei on Kauai is particularly pretty, with waterfalls tumbling down magnificent tropical cliffs in the background.\\n\\nPros love it for its overhead tubes and consistently fine waves.\\n\\nOthers just love the super-chill vibe of a perfect beach town.\\n\\nWorld\\'s 15 most spectacular swimming pools\\n\\n29. Famous, but still fabulous.\\n\\nNot to be confused with Rincon, California (also on this list), this once sleepy Puerto Rican town on the Caribbean Sea has become famous for surfing.\\n\\nThe green hill is a great place from which to scout the best surf.\\n\\n28. Bundoran Beach, County Donegal, Ireland\\n\\nThese shimmering green waters produce rolling waves, which are shaped by the headlands and flat rock reefs.\\n\\nThe cold water doesn\\'t deter die-hards.\\n\\nLocals will offer tips and advice to visiting surfers.\\n\\n27. Do well and the monkeys may cheer you on.\\n\\n27. Tamarindo Beach, Tamarindo, Costa Rica\\n\\nGood for beginners and experts, this half-kilometer stretch of beach with warm water generates waves that reach heights of three meters.\\n\\nHowler monkeys swing through the trees and parakeets screech in the background.\\n\\nOne of the most famous waves in the Maldives, this break offers left-hand rides and 100 meters of pure tube riding out to sea.\\n\\nThere\\'s a catch: only Dhonveli Beach Resort & Spa guests can access the spot. A stay on the exclusive island costs upwards of $340 per night.\\n\\nAn experts-only spot, the reef bottom here creates potent, hollow, fast and intimidating world-class tubes.\\n\\nEpic, though not quite as epic as its North Shore neighbor, Pipeline.\\n\\nNon-expert surfers should probably just experience this break from the beach.\\n\\n24. Watergate Bay, Cornwall, England\\n\\nWatergate Bay isn\\'t as famous as Fistral Bay, but it has more English charm, is less crowded and is equally as surfable, with waves ranging from 30 centimeters to three meters.\\n\\nWorld\\'s 50 best beach bars\\n\\n23. Half a kilometer of thrills.\\n\\n23. Cloudbreak, Tavarua Island, Fiji\\n\\nIn the easygoing South Pacific, Cloudbreak is strictly for experts.\\n\\nThis brutal, hollow wave forms about 1,600 meters off the coast, and holds for up to 500 meters, reaching 10 meters in size.\\n\\n22. Superbank, Gold Coast, Australia\\n\\nSuperbank produces tubes and solid walls.\\n\\nIt\\'s crucial to save some energy for the two-kilometer walk along the beach back to where cars can be parked.\\n\\n21. Surfrider Beach, Malibu, California\\n\\nThese small, perfectly formed crests where Johnny Fain and Miki Dora surfed in the 1950s are a great place to grab a longboard and surf Beach Boys-style. Unfortunately, the place is absolutely rammed for exactly this reason.\\n\\n20. The slab wave that sparked a resurgence.\\n\\n20. The Box, Margaret River Valley, Australia\\n\\nThe Box is possibly the world\\'s most venerable slab wave, meaning that it transitions quickly from deep to shallow water.\\n\\nNamed for its square barrel shape, the Box is said to be responsible for a resurgence among thrill seekers to search out dangerous slab waves around the world.\\n\\n\"It\\'s sharky as all hell, but worth it,\" says Surfing Magazine editor in chief Taylor Paul. \"It has an incredibly late takeoff and offers a short, powerful right-hand barrel.\"\\n\\nThe most iconic big wave reef break on the Hawaiian Islands takes its name from the ferocity of its legendary waves.\\n\\n\"It\\'s a right and a left, and both offer giant barrels -- and potentially deadly consequences -- for anyone who\\'s crazy enough to ride them,\" says Paul.\\n\\nWaves can reach an unbelievable 27 meters in winter, when strong winds create the monster swells for which the break is famed.\\n\\nIn 2012, big wave legend Shane Dorian caught the extreme barrel ride that won Billabong\\'s XXL Ride of the Year, the accomplishment that\\'s finally getting him inducted into the Surfer\\'s Hall of Fame this July.\\n\\n18. Riyuewan, Sanya, Hainan Island, China\\n\\nChina isn\\'t known for its beaches, let alone its surfing, but Hainan Island offers untouched tropical beaches with consistent uncrowded waves.\\n\\nLocal outfit Surfing Hainan arranges transportation to beginner spots, such as Riyuewan Bay, and lesser known locations.\\n\\n17. Manu Bay, Raglan, New Zealand\\n\\nMade famous in the 1960s as a location in the surf classic, \"The Endless Summer,\" atmosphere is key at this sleepy town.\\n\\nBars and cafes play surf videos and serve healthy smoothies and fresh cakes.\\n\\nThe waves on this wide-open bay range from one meter to about three, with an occasional barrel.\\n\\n16. One of the best left-handers in the world.\\n\\nA private beach may grate on the idyllic surf attitude, but there\\'s no denying the appeal of a break reserved just for you and a few others. All day, any day.\\n\\nEspecially when it\\'s frequently rated as one of the top 10 left-handers in the world, and has a stunning location.\\n\\n15. Rincon, Santa Barbara, California\\n\\nWhile it doesn\\'t break often, when the surf is up, Rincon is the best point break in California, offering long, steep, right-hand waves on most big northwest swells.\\n\\nWhen that happens, this world famous spot gets extremely crowded.\\n\\n14. Montanita Beach, Montanita, Ecuador\\n\\nNot many travelers make it to (or even know about) this spot on the west coast of Ecuador.\\n\\nThe majority head straight to the Galapagos Islands and miss this hidden spot, which wasn\\'t even on the map a few years ago.\\n\\nThere are only a thousand or so locals in Montanita and they\\'re among the friendliest bunch of surfers you\\'ll find.\\n\\nAfter pounding right-hand breaks, you can get to know them during apres-surf events on the village\\'s bar strip.\\n\\n13. You can do some whale spotting while you\\'re out there.\\n\\n13. Honolua Bay, Maui, Hawaii\\n\\nFinding this right-hand point break is tricky.\\n\\nLocals may respond to requests for directions with \"go back home,\" but this is a world-class ride with the added bonus of whale spotting from your board.\\n\\n12. Trestles, Orange County, California\\n\\nThe combination of easy paddle-outs and consistent high-quality breaks make the Trestles one of the most revered destinations in Southern California.\\n\\nFive spots make up the Trestles and provide a variety of left- and right-handed barrels -- the best surf (and the biggest crowds) are found at Lower Trestles.\\n\\n\"There\\'s no other wave in the world that allows for such high performance surfing, and the fact that the A-frame is located in Orange County -- the heart of the surf industry -- makes it the epicenter for progressive aerials and surfing,\" says Surfing Magazine editor in chef Taylor Paul.\\n\\n11. Waves, Maldives. Nothing not to like.\\n\\n11. Sultans, North Male, Maldives\\n\\nA consistent reef wave that\\'s absolutely pumping in the spring, the rocks at Sultans can be hazardous, so going with a live-aboard outfit such as Surf Atoll is recommended.\\n\\nThe expert wave spotters can also deliver surfers to other fine points among the Maldives\\' 1,190 coral islands.\\n\\n10. Lance\\'s Right, Sipora, Mentawais Islands, Sumatera Barat, Indonesia\\n\\nNear a seaside village on the tiny, beautiful Indonesian island of Sipora is a killer right tube that\\'s worth the time, money and effort it takes to find it.\\n\\nWarm water, mechanically consistent waves, a cove lined with palm trees and dozens more world-class waves nearby -- no wonder the place is called \"perfection\" by avid surfers.\\n\\n9. It\\'s called Cloud Nine for a reason.\\n\\n9. Cloud Nine, Siargao Island, Philippines\\n\\nThis dramatic and powerful reef break, which crashes onto shallow razor-sharp coral, offers right and left death rides.\\n\\nFearless surfers will experience a slice of paradise or hallucinations as waves wrap over them like a liquid cocoon.\\n\\nSkin and sometimes bone are often ripped to shreds by the ocean bed.\\n\\n8. Puerto Escondido, Southern Oaxaca, Mexico\\n\\nWith a long, blessed surf season from March to December, this Mexican state attracts surfers with its powerful barrels and surrounding sandy point breaks.\\n\\n\"It\\'s the main attraction when surfers head south of the border,\" says Paul, who recommends basing out of Puerto Escondido and driving to various points along the coast.\\n\\n7. Like Hawaii (sort of), but without the coral.\\n\\nThis Atlantic surfing spot has been dubbed the \"surfing capital of Europe.\"\\n\\nThe rich and famous have mansions and holiday homes near the beach -- previous owners include the likes of surfing songwriter Jack Johnson.\\n\\nPeople come from miles around to watch the pros ride tubes, which can rival Hawaii for heavy walls breaking on an unnervingly shallow sandbank.\\n\\nThe wave of legends is surfed by only the gutsiest of board riders.\\n\\nThe mammoth peak forms as a result of hair-raising storms out at sea and reaches bone-chilling heights of 25 meters.\\n\\nThe only way to reach this wave is by boat or jet-ski; come at it at the wrong angle and you\\'re fish food.\\n\\nIn 1994, skilled Hawaiian big-wave surfer Mark Foo died surfing this point.\\n\\nThose surfers who do conquer its peak join a small club of overachievers.\\n\\n5. P-Pass, Pohnpei, Federated States of Micronesia\\n\\nP-Pass (short for Paliker Pass) is known for its incredible right-hander.\\n\\n\"It\\'s just flawless, blue, reef-pass tubes,\" says Paul.\\n\\nDue to a remote location and the relatively high cost to reach it, the spot remains largely uncrowded despite its superlative rides.\\n\\n4. Often crowded, but few places offer Bali\\'s warmth and spectacle.\\n\\n4. Uluwatu and Kuta, Bali, Indonesia\\n\\nThis paradise island attracts expert surfers from Australia and Hawaii, plus beginners from across the globe -- all can enjoy these perfect glassy faces.\\n\\n3. Teahupo\\'o, Tahiti, French Polynesia\\n\\n\"Teahupo\\'o is one of the most perfect and feared waves in the world,\" says Paul about this unique Tahiti reef break.\\n\\n\"It\\'s a short, intense ride and when it gets above 10 feet it\\'s one of the most surreal waves in the world -- almost cartoonish.\"\\n\\nThe heavy hollow-breaking wave is as dangerous as it is rewarding -- the name means \"Wall of Heads.\"\\n\\n2. More than 300 meters of ride, each one memorable.\\n\\n2. Supertubes, Jeffrey\\'s Bay, South Africa\\n\\nThe best right-hand ride in the world, according to our panel of Surfing Magazine editors, Jeffrey\\'s Bay offers long, fast barrels off an intense point break.\\n\\nThe bay is divided into sections, so there are plenty of choices -- Kitchen Windows, Magna Tubes, Boneyards and, gnarliest of all, Supertubes.\\n\\nExpert surfers flock here for rides up to 300 meters long.\\n\\nHere it is -- the granddaddy of all waves.\\n\\nMost surfers will never be good enough to ride here, but everyone dreams of bobbing along its perfect crest.\\n\\nLocated on the island where modern surfing was developed, this is one of the heaviest waves in the world, scaling more than six meters over a shallow base of razor-blade table reef.\\n\\nRide this flawless water tube and you\\'ve communed with one of nature\\'s finest creations.'}, {'role': 'assistant', 'content': 'As part of its \"Summer in the City\" series, CNN has published its list of the 50 best surf spots in the world. From Pipeline at Oahu in Hawaii, widely regarded as the home of surfing, to the world\\'s only artificial wave pool in Abu Dhabi, the complete list includes locations from all over the world. Other places to be named in the rankings include: Uluwatu and Kuta in Bali, Indonesia; Supertubes in Jeffrey\\'s Bay, South Africa; Cape Hatteras Lighthouse in Buxton, North Carolina; Bundoran Beach, County Donegal, Ireland; and The Box in Margaret River Valley, Australia.'}]}\n"
     ]
    }
   ],
   "source": [
    "import random\n",
    "def format_data(data):\n",
    "\n",
    "  formatted_data = []\n",
    "  for message in data:\n",
    "    msg = {\"messages\" :\n",
    "          [\n",
    "          {\"role\":\"system\",\n",
    "            \"content\":\"\"\"You are the Yahoo platform user's assistant. Please reply users' answer using polite,clear and respectful language.\"\"\"\n",
    "          },\n",
    "          {\"role\":\"user\",\n",
    "          \"content\":message[\"prompt\"]\n",
    "          },\n",
    "          {\"role\":\"assistant\",\n",
    "          \"content\":message[\"response\"]\n",
    "          }\n",
    "          ]\n",
    "          }\n",
    "    formatted_data.append(msg)\n",
    "  random.shuffle(formatted_data)\n",
    "  return formatted_data\n",
    "\n",
    "formatted_data = format_data(ds_sample)\n",
    "print(formatted_data[0])"
   ],
   "metadata": {
    "collapsed": false,
    "ExecuteTime": {
     "end_time": "2024-03-22T12:58:43.126332Z",
     "start_time": "2024-03-22T12:58:42.945753Z"
    }
   },
   "id": "88e1b52cfc14c9d7"
  },
  {
   "cell_type": "code",
   "execution_count": 17,
   "outputs": [
    {
     "data": {
      "text/plain": "list"
     },
     "execution_count": 17,
     "metadata": {},
     "output_type": "execute_result"
    }
   ],
   "source": [
    "type(formatted_data)"
   ],
   "metadata": {
    "collapsed": false,
    "ExecuteTime": {
     "end_time": "2024-03-22T16:06:31.063443Z",
     "start_time": "2024-03-22T16:06:31.046937Z"
    }
   },
   "id": "90d8ad6284b40b7a"
  },
  {
   "cell_type": "code",
   "execution_count": 16,
   "outputs": [
    {
     "name": "stdout",
     "output_type": "stream",
     "text": [
      "{'messages': [{'role': 'system', 'content': \"You are the Yahoo platform user's assistant. Please reply users' answer using polite,clear and respectful language.\"}, {'role': 'user', 'content': 'Produce an article summary of the following news article: Three Crystal Transport bus drivers failed drug tests but kept transporting thousands of passengers around Boston every day, according to federal investigators. Some new hires did not undergo proper drug screening; others falsified duty records to hide the fact that they exceeded the maximum hours allowed behind the wheel.\\n\\nThe violations piled up for five years before federal regulators in February conducted a full safety review of the Boston company — and quickly pulled its buses off the road. Crystal has since been reauthorized to operate here.\\n\\nCrystal Transport Inc. is just one example of the many bus companies with persistent safety violations that have been allowed to continue operating, a Globe analysis of federal data found.\\n\\nLed by discount carriers that offer cheap tickets and free Wi-Fi, buses represent the fastest-growing segment of interstate travel, but regulation of the industry has lagged.\\n\\nOne in four of the more than 3,700 commercial motorcoach and passenger van companies regulated by the federal government has never received the full safety evaluation that turned up long-running problems at Crystal, according to the Globe’s investigation. Nearly half have not been reviewed in more than two years.\\n\\n“The system is so stretched out it’s hard for them to keep tabs on companies,” said Brian Antolin, a Philadelphia transportation consultant.\\n\\nThe Federal Motor Carrier Safety Administration, which oversees the industry, works with State Police and other authorities to conduct random inspections at bus stations and parking lots. It uses that inspection data to prioritize carriers for interventions, including warning letters or increased inspections, before conducting full safety reviews at company headquarters. Each carrier is then given a safety rating: satisfactory, conditional, or unsatisfactory, the last of which pulls the carrier off the road.\\n\\nThe agency said new companies and those with clean safety records account for some of the companies that have never had a full compliance review, and noted that more than half have undergone a new-entrant safety audit.\\n\\nThe motorcoach industry carries about 700 million people a year in the United States, compared with 824 million airline passengers. But buses receive far less scrutiny than planes, despite a record that is far more deadly. More than 170 people were killed in bus crashes from 2010 to early 2014, while no one died in commercial plane crashes on US carriers during that period.\\n\\nFollowing a decade of lax oversight, insufficient authority, and inadequate funding, recent rule changes have brought more attention to the industry. Full safety reviews are now required every two or three years, and a nationwide crackdown last year put 110 companies out of service, including Boston’s Fung Wah and Lucky Star.\\n\\nBut federal regulators are still playing catch-up, the Globe’s analysis found. More than 200 companies with at least one safety alert for serious violations uncovered by local authorities have not undergone a complete federal safety review in at least two years — if ever.\\n\\nMore than 500 interstate carriers on the road today exceed the acceptable threshold of violations in at least one of five public safety categories established by federal regulators, according to the Globe’s analysis.\\n\\nAmong them is Turimex LLC, of Laredo, Texas, which racked up more than 1,700 vehicle maintenance violations over the past two years for such problems as faulty brakes, cracked or loose frames, improper wiring, bald tires, and numerous other issues with its fleet of 85 buses. During the same time period, the carrier has also been cited more than three dozen times for using non-English-speaking drivers.\\n\\nDespite that track record, it hasn’t had a full safety investigation since 2012.\\n\\nFederal regulators say that since the company crosses the US border, it is subject to more inspections, increasing the chances for violations to be found. Turimex officials did not respond to requests for comment.\\n\\nThe National Transportation Safety Board, which investigates plane, train, and bus crashes, has sharply criticized the lack of oversight of the interstate bus system. At the end of last year, NTSB officials slammed the Federal Motor Carrier Safety Administration for failing to notice or act on red flags that were apparent before fatal bus accidents.\\n\\n“They need to crack down before crashes occur, not just after high visibility events,” then-chairman Deborah Hersman said in a statement. “In many cases, the poor performing company was on FMCSA’s radar for violations, but was allowed to continue operating and was not scrutinized closely until they had deadly crashes.”\\n\\nThe Federal Motor Carrier Safety Administration, once a division of the Federal Highway Administration, was established as a separate agency within the Department of Transportation in 2000. The number of buses on the road has increased significantly since 2006, more than doubling the number of miles traveled each year, according to the FMCSA. But the number of investigators at the $572 million agency has remained essentially unchanged.\\n\\nBetween 300 and 350 investigators are responsible for overseeing 525,000 bus and truck companies. The agency has asked Congress to authorize 100 new inspectors to focus exclusively on bus companies.\\n\\nAnne Ferro, head of the Federal Motor Carrier Safety Administration, said her agency has tried to make the most of limited budgets. In 2010, the agency began publishing the safety records of bus companies on its website and provides a free app to access those records from mobile devices.\\n\\nIt is also examining its rules and data to create stricter safety policies, Ferro said — including clamping down on repeat offenders and shuttered carriers that try to reopen under a different name and proposing a shift to electronic log books. Starting in late 2016, new buses must be have seat belts.\\n\\nBut Ferro conceded her agency has neither the money nor the manpower to adequately monitor the sprawling interstate bus system. Some carriers have been known to hide buses in need of repair from investigators.\\n\\n“We are not resourced for the kind of passenger carrier oversight system the public expects and we feel government should be providing,” Ferro said. “We are resourced for what we’ve always done all along.”\\n\\nThe growth of discount carriers such as Fung Wah — also known as “curbside” carriers because they often pick up passengers on the street — has introduced more risk to interstate bus service in recent years, according to a 2011 study by the National Transportation Safety Board. These companies often have no formal driver training or safety programs, lack stations where random inspections can take place, and tend to have drivers with poor English skills, the study found.\\n\\nAs a result, curbside carriers have higher rates of death and injury than conventional bus companies and charter services. Curbside carriers had 1.4 fatal accidents per 100 vehicles between 2005 and 2011, according to the study, compared with 0.2 for conventional carriers.\\n\\nOverall, nearly 1,100 bus companies have been involved in more than 7,500 crashes in the past four years, killing 171 people and injuring 9,414.\\n\\nIn the predawn hours of March 12, 2011, a World Wide Travel bus carrying 32 passengers from Mohegan Sun casino to New York hit a guardrail, flipped on its side, and hit a highway signpost that tore the roof off the coach, killing 15 and injuring 17. The National Transportation Safety Board found that the driver was speeding and had “cumulative sleep debt,”duein part to his work schedule, according to an NTSB report.\\n\\nThe FMCSA ordered the company off the road soon after the crash, though many of its employees continued to work for a sister company, according to the report.\\n\\nIn December 2012, a Mi Joo Tour & Travel motorcoach near Pendleton, Ore., hit a patch of ice, tumbled down an embankment and overturned, killing nine passengers. A few months later, seven riders were killed when a Scapadas Magicas driver lost control going down a hill in San Bernardino, Calif.; despite being flagged for vehicle maintenance issues, the carrier had earned a “satisfactory” rating a month before the fatal crash. Both companies were immediately shut down.\\n\\nThe FMCSA has stepped up its enforcement in the last two years after receiving expanded powers from Congress. Following the crash in California, the agency launched “Operation Quick Strike,” an eight-month crackdown on high-risk carriers conducted by a team of specially trained investigators. Instead of simply going over a company’s paperwork, investigators started interviewing drivers and mechanics and checking tollbooth records.\\n\\nThese more stringent efforts led to the shutdown of scores of companies, including Lucky Star, another Boston discount carrier. Lucky Star started running again in November after spending millions to upgrade equipment, driver training, and saftey procedures.\\n\\nIn all last year, the FMCSA shut down five times the number of bus companies it did in 2010.\\n\\nBefore the recent push for more in-depth safety reviews, however, federal investigations weren’t always effective.\\n\\nIn February 2013, investigators gave Fung Wah a “satisfactory” rating — despite multiple cases of buses catching fire, crashing, and losing their back wheels over the years.\\n\\nJust a few weeks later, state inspectors found cracks in the frames of nearly all of Fung Wah’s fleet, prompting federal regulators to shut down the company.\\n\\nThe carrier’s efforts to resume operations were rejected earlier this year, and Fung Wah is appealing the decision.\\n\\nCrystal Transport, which described its problems as largely administrative, is awaiting approval for interstate routes. It has not yet regained its main route between the JFK/UMass MBTA station and the University of Massachusetts Boston.\\n\\nFederal authorities were much less aggressive in years past, said Craig Lentzsch, former chief executive of Greyhound Lines Inc. Lentzsch was so concerned about the government’s inaction during his tenure from 1994 to 2003 that he had employees follow drivers from other carriers and report speeding and hours-of-service violations to the government.\\n\\nBut the agency failed to follow up, Lenztsch said.\\n\\n“The guys that are being shut down are guys that we as an industry complained about as long as 12 to 15 years ago,” said Lentzsch, who is now chairman of the charter bus company All Aboard America Holdings.\\n\\nDallas-based Greyhound, the nation’s biggest commercial passenger carrier, operating more than 1,300 buses, including BoltBus and Yo Bus, has no federal safety alerts.\\n\\nThe company, which hasn’t had a full safety review in more than four years, was involved in at least 123 accidents in the past two years, involving four fatalities and 63 injuries.\\n\\nSpringfield-based Peter Pan Bus Lines, which operates 111 buses around New England, including hourly trips between Boston and New York, has one alert in the unsafe driving category. Peter Pan drivers were pulled over for speeding 27 times in the past two years, and cited for failing to obey a traffic control device such as a stop light or construction sign and for using a cellphone behind the wheel.\\n\\nBefore the company underwent a compliance review at the end of August, it had not had a full safety audit since 2007; the most recent one before that was in 1995.\\n\\nChristopher Crean, vice president of safety and security for Peter Pan, said the federal safety database that lists violations can be misleading. Almost all of the company’s speeding violations were on stretches of Interstate where the speed limit had recently dropped, he said, and most of the drivers were given warnings. Only two of the company’s 11 crashes in the past two years, none of which had fatalities, were the driver’s fault, he noted.\\n\\nThe Massachusetts Department of Public Utilities, which does roadside inspections of the state’s 300 bus companies, just started conducting its own safety reviews to assess a motorcoach’s entire operation, instead of simply inspecting drivers and equipment. This review, which carries no penalties, is designed to catch problems that could get the carrier shut down by federal investigators — a development welcomed by Chris Anzuoni, vice president of Plymouth & Brockton Street Railway Co. The Plymouth company, which serves Logan Airport, Boston, and Cape Cod and has no safety alerts, has not had a federal compliance review in five years.\\n\\nIncreasing the frequency of compliance reviews is included in rules recently adopted by the Federal Motor Carrier Safety Administration to improve safety. In the past, there was no regular schedule for these reviews; they were prompted solely by crashes, passenger complaints, and poor scores from random inspections.\\n\\nInternational Stage Lines, a Canadian charter carrier that serves the Pacific Northwest, went 20 years without a full review before one was conducted in February — despite racking up violations for drivers putting in too many hours without a break and not properly tracking hours, according to FMCSA online safety records. That February review, the first in two decades, turned up safety breaches in the company’s drug- screening program.\\n\\nThe February investigation also turned up failures to perform enough drug tests and to wait for drivers’ pre-employment screenings to be completed.\\n\\n“It’s all been addressed,” said International Stage Lines operations manager Heather Leslie.\\n\\nSuper Duck Tours LLC, the Boston company that operates Upper Deck Trolley Tours and gives Super Duck Tours on amphibious vehicles, was operating for seven years before receiving its very first compliance review in January. The review found several drivers who had not had proper background checks or drug tests — and gave the company a “conditional” rating.\\n\\nManager Jack Harte said the problems were procedural and have been fixed.\\n\\n“Nobody ever checked before,” he said. “We believed we were doing everything the way we should have.”\\n\\nUnder the new rules, bus company owners will soon have to take an exam on safety management practices before they are allowed to operate and must pass a safety audit within 120 days of being authorized. New companies must receive a comprehensive safety review within two years of beginning operations, and every three years thereafter.\\n\\n“It’s a new day, folks,” Ferro said. “You cannot get away with what you might have been able to get away with before.”\\n\\nWith its crackdown on bus safety violations and more than 250 carriers pulled off the road since 2011, the Federal Motor Carrier Safety Administration’s recent efforts are helping clean up the industry, transportation specialists say, but many observers say there’s still a long way to go.\\n\\n“It’s better than what they were doing 10 years ago; they weren’t doing anything 10 years ago,” said Henry Jasny, vice president of Advocates for Highway and Auto Safety, an alliance of consumer, safety, and insurance groups.\\n\\n“The current administration is doing more, but it’s not enough.”'}, {'role': 'assistant', 'content': \"Bus companies in the US are failing to perform adequate safety evaluations; one in four of over 3.7k commercial motorcoach and passenger van companies regulated by the US Federal Motor Carrier Safety Administration\\xa0has never received a full safety evaluation. A report from The Boston Globe has analysed federal data surrounding bus safety and revealed that after a decade of lax oversight, weak authority and insufficient funding, more needs to be done to bring the industry up to required safety standards. The article details that the FMCSA’s current limited resources and manpower are not adequate enough for effective oversight of the industry, with carriers sometimes known to hide buses in need of repair in order to obstruct investigation, whilst 'curbside' carriers or discount carriers have a greater risk of accidents due to their lack of driver training, safety programmes and lack of formal inspections.\\n\"}]}\n"
     ]
    }
   ],
   "source": [
    "print(formatted_data[3])"
   ],
   "metadata": {
    "collapsed": false,
    "ExecuteTime": {
     "end_time": "2024-03-22T16:05:59.846135Z",
     "start_time": "2024-03-22T16:05:59.830379Z"
    }
   },
   "id": "8239193609ab03db"
  },
  {
   "cell_type": "code",
   "execution_count": 13,
   "outputs": [],
   "source": [
    "import pandas as pd\n",
    "\n",
    "df = pd.read_csv('test.csv', sep=';')"
   ],
   "metadata": {
    "collapsed": false,
    "ExecuteTime": {
     "end_time": "2024-03-22T15:52:53.244097Z",
     "start_time": "2024-03-22T15:52:53.168105Z"
    }
   },
   "id": "17d93a84345efde6"
  },
  {
   "cell_type": "code",
   "execution_count": 14,
   "outputs": [
    {
     "data": {
      "text/plain": "                                              prompt  \\\n0                What ROPS/FOPS Certification Means?   \n1   What is the content of Special Publication PE...   \n2  What is the focus of Special Publication SEHS6...   \n3      What does Special Publication PEHP7506 cover?   \n4  What is the purpose of Special Publication PEH...   \n\n                                          completion  \n0  It provides information on ROPS/FOPS certifica...  \n1  It covers the product data sheet for Caterpill...  \n2  It provides guidelines for the inspection, mai...  \n3  It includes product data sheet and installatio...  \n4  It provides safety manuals for Caterpillar Gea...  ",
      "text/html": "<div>\n<style scoped>\n    .dataframe tbody tr th:only-of-type {\n        vertical-align: middle;\n    }\n\n    .dataframe tbody tr th {\n        vertical-align: top;\n    }\n\n    .dataframe thead th {\n        text-align: right;\n    }\n</style>\n<table border=\"1\" class=\"dataframe\">\n  <thead>\n    <tr style=\"text-align: right;\">\n      <th></th>\n      <th>prompt</th>\n      <th>completion</th>\n    </tr>\n  </thead>\n  <tbody>\n    <tr>\n      <th>0</th>\n      <td>What ROPS/FOPS Certification Means?</td>\n      <td>It provides information on ROPS/FOPS certifica...</td>\n    </tr>\n    <tr>\n      <th>1</th>\n      <td>What is the content of Special Publication PE...</td>\n      <td>It covers the product data sheet for Caterpill...</td>\n    </tr>\n    <tr>\n      <th>2</th>\n      <td>What is the focus of Special Publication SEHS6...</td>\n      <td>It provides guidelines for the inspection, mai...</td>\n    </tr>\n    <tr>\n      <th>3</th>\n      <td>What does Special Publication PEHP7506 cover?</td>\n      <td>It includes product data sheet and installatio...</td>\n    </tr>\n    <tr>\n      <th>4</th>\n      <td>What is the purpose of Special Publication PEH...</td>\n      <td>It provides safety manuals for Caterpillar Gea...</td>\n    </tr>\n  </tbody>\n</table>\n</div>"
     },
     "execution_count": 14,
     "metadata": {},
     "output_type": "execute_result"
    }
   ],
   "source": [
    "df.head()"
   ],
   "metadata": {
    "collapsed": false,
    "ExecuteTime": {
     "end_time": "2024-03-22T15:52:57.217916Z",
     "start_time": "2024-03-22T15:52:57.171247Z"
    }
   },
   "id": "77f9871eb85743cb"
  },
  {
   "cell_type": "code",
   "execution_count": 19,
   "outputs": [],
   "source": [
    "import pandas as pd\n",
    "import json\n",
    "\n",
    "json_data = []\n",
    "for _, row in df.iterrows():\n",
    "    message = [\n",
    "        {'role': 'system', 'content': \"You are the user's assistant. Please reply user`s questions\"},\n",
    "        {'role': 'user', 'content': row['prompt']},\n",
    "        {'role': 'assistant', 'content': row['completion']}\n",
    "    ]\n",
    "    json_data.append({'messages': message})\n",
    "\n",
    "json_string = json.dumps(json_data, indent=4)\n"
   ],
   "metadata": {
    "collapsed": false,
    "ExecuteTime": {
     "end_time": "2024-03-22T16:15:22.163747Z",
     "start_time": "2024-03-22T16:15:22.148029Z"
    }
   },
   "id": "fe47ab91a9cf497f"
  },
  {
   "cell_type": "code",
   "execution_count": 20,
   "outputs": [],
   "source": [
    "json_file_path = \"output.json\"\n",
    "\n",
    "with open(json_file_path, \"w\") as json_file:\n",
    "    json_file.write(json_string)"
   ],
   "metadata": {
    "collapsed": false,
    "ExecuteTime": {
     "end_time": "2024-03-22T16:15:24.338479Z",
     "start_time": "2024-03-22T16:15:24.330514Z"
    }
   },
   "id": "87e177800356d26f"
  },
  {
   "cell_type": "code",
   "execution_count": null,
   "outputs": [],
   "source": [],
   "metadata": {
    "collapsed": false
   },
   "id": "d3aeb846ff99990b"
  }
 ],
 "metadata": {
  "availableInstances": [
   {
    "_defaultOrder": 0,
    "_isFastLaunch": true,
    "category": "General purpose",
    "gpuNum": 0,
    "hideHardwareSpecs": false,
    "memoryGiB": 4,
    "name": "ml.t3.medium",
    "vcpuNum": 2
   },
   {
    "_defaultOrder": 1,
    "_isFastLaunch": false,
    "category": "General purpose",
    "gpuNum": 0,
    "hideHardwareSpecs": false,
    "memoryGiB": 8,
    "name": "ml.t3.large",
    "vcpuNum": 2
   },
   {
    "_defaultOrder": 2,
    "_isFastLaunch": false,
    "category": "General purpose",
    "gpuNum": 0,
    "hideHardwareSpecs": false,
    "memoryGiB": 16,
    "name": "ml.t3.xlarge",
    "vcpuNum": 4
   },
   {
    "_defaultOrder": 3,
    "_isFastLaunch": false,
    "category": "General purpose",
    "gpuNum": 0,
    "hideHardwareSpecs": false,
    "memoryGiB": 32,
    "name": "ml.t3.2xlarge",
    "vcpuNum": 8
   },
   {
    "_defaultOrder": 4,
    "_isFastLaunch": true,
    "category": "General purpose",
    "gpuNum": 0,
    "hideHardwareSpecs": false,
    "memoryGiB": 8,
    "name": "ml.m5.large",
    "vcpuNum": 2
   },
   {
    "_defaultOrder": 5,
    "_isFastLaunch": false,
    "category": "General purpose",
    "gpuNum": 0,
    "hideHardwareSpecs": false,
    "memoryGiB": 16,
    "name": "ml.m5.xlarge",
    "vcpuNum": 4
   },
   {
    "_defaultOrder": 6,
    "_isFastLaunch": false,
    "category": "General purpose",
    "gpuNum": 0,
    "hideHardwareSpecs": false,
    "memoryGiB": 32,
    "name": "ml.m5.2xlarge",
    "vcpuNum": 8
   },
   {
    "_defaultOrder": 7,
    "_isFastLaunch": false,
    "category": "General purpose",
    "gpuNum": 0,
    "hideHardwareSpecs": false,
    "memoryGiB": 64,
    "name": "ml.m5.4xlarge",
    "vcpuNum": 16
   },
   {
    "_defaultOrder": 8,
    "_isFastLaunch": false,
    "category": "General purpose",
    "gpuNum": 0,
    "hideHardwareSpecs": false,
    "memoryGiB": 128,
    "name": "ml.m5.8xlarge",
    "vcpuNum": 32
   },
   {
    "_defaultOrder": 9,
    "_isFastLaunch": false,
    "category": "General purpose",
    "gpuNum": 0,
    "hideHardwareSpecs": false,
    "memoryGiB": 192,
    "name": "ml.m5.12xlarge",
    "vcpuNum": 48
   },
   {
    "_defaultOrder": 10,
    "_isFastLaunch": false,
    "category": "General purpose",
    "gpuNum": 0,
    "hideHardwareSpecs": false,
    "memoryGiB": 256,
    "name": "ml.m5.16xlarge",
    "vcpuNum": 64
   },
   {
    "_defaultOrder": 11,
    "_isFastLaunch": false,
    "category": "General purpose",
    "gpuNum": 0,
    "hideHardwareSpecs": false,
    "memoryGiB": 384,
    "name": "ml.m5.24xlarge",
    "vcpuNum": 96
   },
   {
    "_defaultOrder": 12,
    "_isFastLaunch": false,
    "category": "General purpose",
    "gpuNum": 0,
    "hideHardwareSpecs": false,
    "memoryGiB": 8,
    "name": "ml.m5d.large",
    "vcpuNum": 2
   },
   {
    "_defaultOrder": 13,
    "_isFastLaunch": false,
    "category": "General purpose",
    "gpuNum": 0,
    "hideHardwareSpecs": false,
    "memoryGiB": 16,
    "name": "ml.m5d.xlarge",
    "vcpuNum": 4
   },
   {
    "_defaultOrder": 14,
    "_isFastLaunch": false,
    "category": "General purpose",
    "gpuNum": 0,
    "hideHardwareSpecs": false,
    "memoryGiB": 32,
    "name": "ml.m5d.2xlarge",
    "vcpuNum": 8
   },
   {
    "_defaultOrder": 15,
    "_isFastLaunch": false,
    "category": "General purpose",
    "gpuNum": 0,
    "hideHardwareSpecs": false,
    "memoryGiB": 64,
    "name": "ml.m5d.4xlarge",
    "vcpuNum": 16
   },
   {
    "_defaultOrder": 16,
    "_isFastLaunch": false,
    "category": "General purpose",
    "gpuNum": 0,
    "hideHardwareSpecs": false,
    "memoryGiB": 128,
    "name": "ml.m5d.8xlarge",
    "vcpuNum": 32
   },
   {
    "_defaultOrder": 17,
    "_isFastLaunch": false,
    "category": "General purpose",
    "gpuNum": 0,
    "hideHardwareSpecs": false,
    "memoryGiB": 192,
    "name": "ml.m5d.12xlarge",
    "vcpuNum": 48
   },
   {
    "_defaultOrder": 18,
    "_isFastLaunch": false,
    "category": "General purpose",
    "gpuNum": 0,
    "hideHardwareSpecs": false,
    "memoryGiB": 256,
    "name": "ml.m5d.16xlarge",
    "vcpuNum": 64
   },
   {
    "_defaultOrder": 19,
    "_isFastLaunch": false,
    "category": "General purpose",
    "gpuNum": 0,
    "hideHardwareSpecs": false,
    "memoryGiB": 384,
    "name": "ml.m5d.24xlarge",
    "vcpuNum": 96
   },
   {
    "_defaultOrder": 20,
    "_isFastLaunch": false,
    "category": "General purpose",
    "gpuNum": 0,
    "hideHardwareSpecs": true,
    "memoryGiB": 0,
    "name": "ml.geospatial.interactive",
    "supportedImageNames": [
     "sagemaker-geospatial-v1-0"
    ],
    "vcpuNum": 0
   },
   {
    "_defaultOrder": 21,
    "_isFastLaunch": true,
    "category": "Compute optimized",
    "gpuNum": 0,
    "hideHardwareSpecs": false,
    "memoryGiB": 4,
    "name": "ml.c5.large",
    "vcpuNum": 2
   },
   {
    "_defaultOrder": 22,
    "_isFastLaunch": false,
    "category": "Compute optimized",
    "gpuNum": 0,
    "hideHardwareSpecs": false,
    "memoryGiB": 8,
    "name": "ml.c5.xlarge",
    "vcpuNum": 4
   },
   {
    "_defaultOrder": 23,
    "_isFastLaunch": false,
    "category": "Compute optimized",
    "gpuNum": 0,
    "hideHardwareSpecs": false,
    "memoryGiB": 16,
    "name": "ml.c5.2xlarge",
    "vcpuNum": 8
   },
   {
    "_defaultOrder": 24,
    "_isFastLaunch": false,
    "category": "Compute optimized",
    "gpuNum": 0,
    "hideHardwareSpecs": false,
    "memoryGiB": 32,
    "name": "ml.c5.4xlarge",
    "vcpuNum": 16
   },
   {
    "_defaultOrder": 25,
    "_isFastLaunch": false,
    "category": "Compute optimized",
    "gpuNum": 0,
    "hideHardwareSpecs": false,
    "memoryGiB": 72,
    "name": "ml.c5.9xlarge",
    "vcpuNum": 36
   },
   {
    "_defaultOrder": 26,
    "_isFastLaunch": false,
    "category": "Compute optimized",
    "gpuNum": 0,
    "hideHardwareSpecs": false,
    "memoryGiB": 96,
    "name": "ml.c5.12xlarge",
    "vcpuNum": 48
   },
   {
    "_defaultOrder": 27,
    "_isFastLaunch": false,
    "category": "Compute optimized",
    "gpuNum": 0,
    "hideHardwareSpecs": false,
    "memoryGiB": 144,
    "name": "ml.c5.18xlarge",
    "vcpuNum": 72
   },
   {
    "_defaultOrder": 28,
    "_isFastLaunch": false,
    "category": "Compute optimized",
    "gpuNum": 0,
    "hideHardwareSpecs": false,
    "memoryGiB": 192,
    "name": "ml.c5.24xlarge",
    "vcpuNum": 96
   },
   {
    "_defaultOrder": 29,
    "_isFastLaunch": true,
    "category": "Accelerated computing",
    "gpuNum": 1,
    "hideHardwareSpecs": false,
    "memoryGiB": 16,
    "name": "ml.g4dn.xlarge",
    "vcpuNum": 4
   },
   {
    "_defaultOrder": 30,
    "_isFastLaunch": false,
    "category": "Accelerated computing",
    "gpuNum": 1,
    "hideHardwareSpecs": false,
    "memoryGiB": 32,
    "name": "ml.g4dn.2xlarge",
    "vcpuNum": 8
   },
   {
    "_defaultOrder": 31,
    "_isFastLaunch": false,
    "category": "Accelerated computing",
    "gpuNum": 1,
    "hideHardwareSpecs": false,
    "memoryGiB": 64,
    "name": "ml.g4dn.4xlarge",
    "vcpuNum": 16
   },
   {
    "_defaultOrder": 32,
    "_isFastLaunch": false,
    "category": "Accelerated computing",
    "gpuNum": 1,
    "hideHardwareSpecs": false,
    "memoryGiB": 128,
    "name": "ml.g4dn.8xlarge",
    "vcpuNum": 32
   },
   {
    "_defaultOrder": 33,
    "_isFastLaunch": false,
    "category": "Accelerated computing",
    "gpuNum": 4,
    "hideHardwareSpecs": false,
    "memoryGiB": 192,
    "name": "ml.g4dn.12xlarge",
    "vcpuNum": 48
   },
   {
    "_defaultOrder": 34,
    "_isFastLaunch": false,
    "category": "Accelerated computing",
    "gpuNum": 1,
    "hideHardwareSpecs": false,
    "memoryGiB": 256,
    "name": "ml.g4dn.16xlarge",
    "vcpuNum": 64
   },
   {
    "_defaultOrder": 35,
    "_isFastLaunch": false,
    "category": "Accelerated computing",
    "gpuNum": 1,
    "hideHardwareSpecs": false,
    "memoryGiB": 61,
    "name": "ml.p3.2xlarge",
    "vcpuNum": 8
   },
   {
    "_defaultOrder": 36,
    "_isFastLaunch": false,
    "category": "Accelerated computing",
    "gpuNum": 4,
    "hideHardwareSpecs": false,
    "memoryGiB": 244,
    "name": "ml.p3.8xlarge",
    "vcpuNum": 32
   },
   {
    "_defaultOrder": 37,
    "_isFastLaunch": false,
    "category": "Accelerated computing",
    "gpuNum": 8,
    "hideHardwareSpecs": false,
    "memoryGiB": 488,
    "name": "ml.p3.16xlarge",
    "vcpuNum": 64
   },
   {
    "_defaultOrder": 38,
    "_isFastLaunch": false,
    "category": "Accelerated computing",
    "gpuNum": 8,
    "hideHardwareSpecs": false,
    "memoryGiB": 768,
    "name": "ml.p3dn.24xlarge",
    "vcpuNum": 96
   },
   {
    "_defaultOrder": 39,
    "_isFastLaunch": false,
    "category": "Memory Optimized",
    "gpuNum": 0,
    "hideHardwareSpecs": false,
    "memoryGiB": 16,
    "name": "ml.r5.large",
    "vcpuNum": 2
   },
   {
    "_defaultOrder": 40,
    "_isFastLaunch": false,
    "category": "Memory Optimized",
    "gpuNum": 0,
    "hideHardwareSpecs": false,
    "memoryGiB": 32,
    "name": "ml.r5.xlarge",
    "vcpuNum": 4
   },
   {
    "_defaultOrder": 41,
    "_isFastLaunch": false,
    "category": "Memory Optimized",
    "gpuNum": 0,
    "hideHardwareSpecs": false,
    "memoryGiB": 64,
    "name": "ml.r5.2xlarge",
    "vcpuNum": 8
   },
   {
    "_defaultOrder": 42,
    "_isFastLaunch": false,
    "category": "Memory Optimized",
    "gpuNum": 0,
    "hideHardwareSpecs": false,
    "memoryGiB": 128,
    "name": "ml.r5.4xlarge",
    "vcpuNum": 16
   },
   {
    "_defaultOrder": 43,
    "_isFastLaunch": false,
    "category": "Memory Optimized",
    "gpuNum": 0,
    "hideHardwareSpecs": false,
    "memoryGiB": 256,
    "name": "ml.r5.8xlarge",
    "vcpuNum": 32
   },
   {
    "_defaultOrder": 44,
    "_isFastLaunch": false,
    "category": "Memory Optimized",
    "gpuNum": 0,
    "hideHardwareSpecs": false,
    "memoryGiB": 384,
    "name": "ml.r5.12xlarge",
    "vcpuNum": 48
   },
   {
    "_defaultOrder": 45,
    "_isFastLaunch": false,
    "category": "Memory Optimized",
    "gpuNum": 0,
    "hideHardwareSpecs": false,
    "memoryGiB": 512,
    "name": "ml.r5.16xlarge",
    "vcpuNum": 64
   },
   {
    "_defaultOrder": 46,
    "_isFastLaunch": false,
    "category": "Memory Optimized",
    "gpuNum": 0,
    "hideHardwareSpecs": false,
    "memoryGiB": 768,
    "name": "ml.r5.24xlarge",
    "vcpuNum": 96
   },
   {
    "_defaultOrder": 47,
    "_isFastLaunch": false,
    "category": "Accelerated computing",
    "gpuNum": 1,
    "hideHardwareSpecs": false,
    "memoryGiB": 16,
    "name": "ml.g5.xlarge",
    "vcpuNum": 4
   },
   {
    "_defaultOrder": 48,
    "_isFastLaunch": false,
    "category": "Accelerated computing",
    "gpuNum": 1,
    "hideHardwareSpecs": false,
    "memoryGiB": 32,
    "name": "ml.g5.2xlarge",
    "vcpuNum": 8
   },
   {
    "_defaultOrder": 49,
    "_isFastLaunch": false,
    "category": "Accelerated computing",
    "gpuNum": 1,
    "hideHardwareSpecs": false,
    "memoryGiB": 64,
    "name": "ml.g5.4xlarge",
    "vcpuNum": 16
   },
   {
    "_defaultOrder": 50,
    "_isFastLaunch": false,
    "category": "Accelerated computing",
    "gpuNum": 1,
    "hideHardwareSpecs": false,
    "memoryGiB": 128,
    "name": "ml.g5.8xlarge",
    "vcpuNum": 32
   },
   {
    "_defaultOrder": 51,
    "_isFastLaunch": false,
    "category": "Accelerated computing",
    "gpuNum": 1,
    "hideHardwareSpecs": false,
    "memoryGiB": 256,
    "name": "ml.g5.16xlarge",
    "vcpuNum": 64
   },
   {
    "_defaultOrder": 52,
    "_isFastLaunch": false,
    "category": "Accelerated computing",
    "gpuNum": 4,
    "hideHardwareSpecs": false,
    "memoryGiB": 192,
    "name": "ml.g5.12xlarge",
    "vcpuNum": 48
   },
   {
    "_defaultOrder": 53,
    "_isFastLaunch": false,
    "category": "Accelerated computing",
    "gpuNum": 4,
    "hideHardwareSpecs": false,
    "memoryGiB": 384,
    "name": "ml.g5.24xlarge",
    "vcpuNum": 96
   },
   {
    "_defaultOrder": 54,
    "_isFastLaunch": false,
    "category": "Accelerated computing",
    "gpuNum": 8,
    "hideHardwareSpecs": false,
    "memoryGiB": 768,
    "name": "ml.g5.48xlarge",
    "vcpuNum": 192
   },
   {
    "_defaultOrder": 55,
    "_isFastLaunch": false,
    "category": "Accelerated computing",
    "gpuNum": 8,
    "hideHardwareSpecs": false,
    "memoryGiB": 1152,
    "name": "ml.p4d.24xlarge",
    "vcpuNum": 96
   },
   {
    "_defaultOrder": 56,
    "_isFastLaunch": false,
    "category": "Accelerated computing",
    "gpuNum": 8,
    "hideHardwareSpecs": false,
    "memoryGiB": 1152,
    "name": "ml.p4de.24xlarge",
    "vcpuNum": 96
   },
   {
    "_defaultOrder": 57,
    "_isFastLaunch": false,
    "category": "Accelerated computing",
    "gpuNum": 0,
    "hideHardwareSpecs": false,
    "memoryGiB": 32,
    "name": "ml.trn1.2xlarge",
    "vcpuNum": 8
   },
   {
    "_defaultOrder": 58,
    "_isFastLaunch": false,
    "category": "Accelerated computing",
    "gpuNum": 0,
    "hideHardwareSpecs": false,
    "memoryGiB": 512,
    "name": "ml.trn1.32xlarge",
    "vcpuNum": 128
   },
   {
    "_defaultOrder": 59,
    "_isFastLaunch": false,
    "category": "Accelerated computing",
    "gpuNum": 0,
    "hideHardwareSpecs": false,
    "memoryGiB": 512,
    "name": "ml.trn1n.32xlarge",
    "vcpuNum": 128
   }
  ],
  "instance_type": "ml.t3.medium",
  "kernelspec": {
   "name": "python3",
   "language": "python",
   "display_name": "Python 3 (ipykernel)"
  },
  "language_info": {
   "codemirror_mode": {
    "name": "ipython",
    "version": 3
   },
   "file_extension": ".py",
   "mimetype": "text/x-python",
   "name": "python",
   "nbconvert_exporter": "python",
   "pygments_lexer": "ipython3",
   "version": "3.10.6"
  }
 },
 "nbformat": 4,
 "nbformat_minor": 5
}

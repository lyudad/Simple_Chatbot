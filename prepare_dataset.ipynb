{
 "cells": [
  {
   "cell_type": "code",
   "execution_count": 146,
   "metadata": {
    "id": "re7qIcjoGrdm",
    "ExecuteTime": {
     "end_time": "2024-03-22T12:33:21.591535Z",
     "start_time": "2024-03-22T12:33:21.586542Z"
    }
   },
   "outputs": [],
   "source": [
    "import os\n",
    "from openai import OpenAI\n",
    "\n",
    "OPENAI_API_KEY =''\n",
    "\n",
    "os.environ['OPENAI_API_KEY'] = OPENAI_API_KEY"
   ]
  },
  {
   "cell_type": "code",
   "execution_count": 147,
   "outputs": [],
   "source": [
    "client = OpenAI()\n",
    "OpenAI.api_key = os.getenv('OPENAI_API_KEY')"
   ],
   "metadata": {
    "collapsed": false,
    "ExecuteTime": {
     "end_time": "2024-03-22T12:33:25.558425Z",
     "start_time": "2024-03-22T12:33:25.352875Z"
    }
   }
  },
  {
   "cell_type": "code",
   "execution_count": 148,
   "outputs": [],
   "source": [
    "pdf_file_path = \"example_data/Mobily AR_2022_English.pdf\""
   ],
   "metadata": {
    "collapsed": false,
    "ExecuteTime": {
     "end_time": "2024-03-22T12:33:28.592599Z",
     "start_time": "2024-03-22T12:33:28.584297Z"
    }
   }
  },
  {
   "cell_type": "code",
   "execution_count": 149,
   "outputs": [],
   "source": [
    "import pdfplumber\n",
    "\n",
    "def read_pdf(file_path):\n",
    "    with pdfplumber.open(file_path) as pdf:\n",
    "        text = \"\"\n",
    "        for page in pdf.pages:\n",
    "            text += page.extract_text()\n",
    "    return text\n",
    "\n",
    "pdf_inout_text = read_pdf(pdf_file_path)"
   ],
   "metadata": {
    "collapsed": false,
    "ExecuteTime": {
     "end_time": "2024-03-22T12:34:11.167263Z",
     "start_time": "2024-03-22T12:33:32.148919Z"
    }
   }
  },
  {
   "cell_type": "code",
   "execution_count": 150,
   "outputs": [],
   "source": [
    "from langchain_text_splitters import TokenTextSplitter\n",
    "text_splitter = TokenTextSplitter(chunk_size=16000, chunk_overlap=20)\n",
    "texts = text_splitter.split_text(pdf_inout_text)\n"
   ],
   "metadata": {
    "collapsed": false,
    "ExecuteTime": {
     "end_time": "2024-03-22T12:34:45.925905Z",
     "start_time": "2024-03-22T12:34:45.856797Z"
    }
   }
  },
  {
   "cell_type": "code",
   "execution_count": 144,
   "outputs": [],
   "source": [
    "import os\n",
    "from openai import OpenAI\n",
    "client = OpenAI()\n",
    "OpenAI.api_key = os.getenv('OPENAI_API_KEY')\n",
    "promt = f'Generate dataset for fine-tuning llm using  from the following text:\\n{texts[0]}\\n\\n'\n",
    "\n",
    "completion = client.chat.completions.create( # Change the method name\n",
    "  model = 'gpt-3.5-turbo',\n",
    "  messages = [\n",
    "    {'role': 'user', 'content': promt}\n",
    "  ],\n",
    "  temperature = 0  \n",
    ")"
   ],
   "metadata": {
    "collapsed": false,
    "ExecuteTime": {
     "end_time": "2024-03-22T08:11:13.594988Z",
     "start_time": "2024-03-22T08:10:59.024150Z"
    }
   }
  },
  {
   "cell_type": "code",
   "execution_count": 145,
   "outputs": [
    {
     "name": "stdout",
     "output_type": "stream",
     "text": [
      "1. What is Mobily's GAIN strategy focused on?\n",
      "- Mobily's GAIN strategy is focused on achieving profitable and sustainable growth.\n",
      "\n",
      "2. What are the 4 strategic pillars of Mobily's GAIN strategy?\n",
      "- The 4 strategic pillars of Mobily's GAIN strategy are: Product and Services, Customer Relationships, Infrastructure, and Channels.\n",
      "\n",
      "3. How did Mobily perform in terms of revenue in 2022 compared to 2021?\n",
      "- Mobily achieved a revenue growth of 5.6% in 2022 compared to 2021.\n",
      "\n",
      "4. What was Mobily's net profit in 2022 and how does it compare to 2021?\n",
      "- Mobily's net profit in 2022 was SAR 1.7 billion, representing a 54.6% increase compared to 2021.\n",
      "\n",
      "5. What is Mobily's EBITDA margin in 2022 and how does it compare to 2021?\n",
      "- Mobily's EBITDA margin in 2022 was 39.3%, which is a 1.7% increase compared to 2021.\n",
      "\n",
      "6. How did Mobily manage its debt in 2022 compared to 2021?\n",
      "- Mobily reduced its net debt by 15.9% in 2022 compared to 2021.\n",
      "\n",
      "7. What were the key revenue streams for Mobily in 2022?\n",
      "- The key revenue streams for Mobily in 2022 included interconnection charges, income from ventures, device and accessory sales, and revenues from digital products and services.\n",
      "\n",
      "8. What are the main customer segments that Mobily serves?\n",
      "- Mobily serves consumers, mobile operators, businesses, small-to-medium enterprises (SMEs), and households across Saudi Arabia.\n",
      "\n",
      "9. How does Mobily create value for its stakeholders?\n",
      "- Mobily creates value for its stakeholders by providing innovative offerings, effortless and digitized experiences, and connectivity solutions tailored to the needs of its customers.\n",
      "\n",
      "10. What are the key technologies that Mobily offers to its customers?\n",
      "- Mobily offers wireless (5G, 4G), fixed (FTTH, FTTB), IoT solutions, cloud services, international connectivity, and digital services to its customers.\n"
     ]
    }
   ],
   "source": [
    "print(completion.choices[0].message.content)"
   ],
   "metadata": {
    "collapsed": false,
    "ExecuteTime": {
     "end_time": "2024-03-22T08:11:13.608292Z",
     "start_time": "2024-03-22T08:11:13.597429Z"
    }
   }
  },
  {
   "cell_type": "markdown",
   "source": [
    "## from json to jsonl"
   ],
   "metadata": {
    "collapsed": false
   }
  },
  {
   "cell_type": "code",
   "execution_count": 1,
   "outputs": [],
   "source": [
    "import json\n",
    "\n",
    "input_json_path = \"output.json\"\n",
    "output_jsonl_path = \"chat_train.jsonl\"\n",
    "\n",
    "# Read data from input JSON file\n",
    "with open(input_json_path, \"r\") as input_file:\n",
    "    data = json.load(input_file)\n",
    "\n",
    "# Write data to output JSONL file\n",
    "with open(output_jsonl_path, \"w\") as output_file:\n",
    "    for item in data:\n",
    "        json_line = json.dumps(item)\n",
    "        output_file.write(json_line + \"\\n\")"
   ],
   "metadata": {
    "collapsed": false,
    "ExecuteTime": {
     "end_time": "2024-03-23T07:37:32.250614Z",
     "start_time": "2024-03-23T07:37:32.240422Z"
    }
   }
  },
  {
   "cell_type": "code",
   "execution_count": null,
   "outputs": [],
   "source": [],
   "metadata": {
    "collapsed": false
   }
  }
 ],
 "metadata": {
  "accelerator": "GPU",
  "colab": {
   "provenance": []
  },
  "kernelspec": {
   "name": "python3",
   "language": "python",
   "display_name": "Python 3 (ipykernel)"
  },
  "language_info": {
   "name": "python"
  }
 },
 "nbformat": 4,
 "nbformat_minor": 0
}
